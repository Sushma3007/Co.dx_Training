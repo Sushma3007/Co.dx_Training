{
 "cells": [
  {
   "cell_type": "markdown",
   "metadata": {},
   "source": [
    "## This is your Downloaded Blueprint Notebook ##"
   ]
  },
  {
   "cell_type": "code",
   "execution_count": 189,
   "metadata": {},
   "outputs": [],
   "source": [
    "# tags to identify this iteration when submitted\n",
    "# example: codex_tags = {'env': 'dev', 'region': 'USA', 'product_category': 'A'}\n",
    "\n",
    "codex_tags = {'name':'Training_Project'\n",
    "}\n",
    "\n",
    "from codex_widget_factory import utils\n",
    "results_json=[]\n",
    "\n"
   ]
  },
  {
   "attachments": {},
   "cell_type": "markdown",
   "metadata": {},
   "source": [
    "Plot"
   ]
  },
  {
   "cell_type": "code",
   "execution_count": 190,
   "metadata": {},
   "outputs": [],
   "source": [
    "response_0 = '''\n",
    "import pandas as pd\n",
    "from sklearn.datasets import *\n",
    "import plotly.graph_objects as go\n",
    "from plotly.io import to_json\n",
    "\n",
    "fig_df = pd.DataFrame(data = load_diabetes().data, columns = load_diabetes().feature_names)\n",
    "fig = go.Figure()\n",
    "fig.add_trace(go.Histogram(x = fig_df['sex']))\n",
    "\n",
    "\n",
    "container_dict = {}\n",
    "container_dict = fig\n",
    "dynamic_outputs = to_json(container_dict)'''"
   ]
  },
  {
   "cell_type": "code",
   "execution_count": 191,
   "metadata": {},
   "outputs": [],
   "source": [
    "# import pandas as pd\n",
    "# from sklearn.datasets import *\n",
    "# import plotly.graph_objects as go\n",
    "# from plotly.io import to_json\n",
    "\n",
    "# fig_df = pd.DataFrame(data = load_diabetes().data,columns = load_diabetes().feature_names)\n",
    "# fig = go.Figure()\n",
    "\n",
    "# fig.add_trace(go.Histogram(x = fig_df['sex']))"
   ]
  },
  {
   "cell_type": "code",
   "execution_count": 192,
   "metadata": {},
   "outputs": [],
   "source": [
    "plot= {\"Plot Code\" : response_0}\n",
    "\n",
    "results_json.append({\n",
    "            'type': ' Plot',\n",
    "            'name': ' Plot',\n",
    "            'component':'Plot',\n",
    "            'dynamic_visual_results': plot,\n",
    "            # 'dynamic_code_filters':filters_dict,\n",
    "            # 'dynamic_metrics_results':metrics\n",
    "                    })"
   ]
  },
  {
   "cell_type": "markdown",
   "metadata": {},
   "source": [
    "### Custom Placeholder"
   ]
  },
  {
   "cell_type": "code",
   "execution_count": 193,
   "metadata": {},
   "outputs": [],
   "source": [
    "#BEGIN CUSTOM CODE BELOW...\n",
    "\n",
    "#put your output in this response param for connecting to downstream widgets\n",
    "# response_0\n",
    "\n",
    "#END CUSTOM CODE\n",
    "\n"
   ]
  },
  {
   "attachments": {},
   "cell_type": "markdown",
   "metadata": {},
   "source": [
    "Table"
   ]
  },
  {
   "cell_type": "code",
   "execution_count": 194,
   "metadata": {},
   "outputs": [],
   "source": [
    "conversion_func_code_str = '''\n",
    "from sklearn import datasets\n",
    "import pandas as pd\n",
    "\n",
    "def get_color_table(df, show_searchbar=False, multiple_tables=False):\n",
    "    \"\"\"to get color table on co.dx UI. download button is a default feature for simple table.\n",
    "\n",
    "    To add a color to a specific column (ex : column 'Population'), create another column suffixed with _bgcolor\n",
    "    ex: Population_bgcolor, values of this column should be the name of the color for the corresponding row\n",
    "\n",
    "    \n",
    "    df = pd.DataFrame(datasets.load_diabetes().data)\n",
    "    df.columns = datasets.load_diabetes().feature_names\n",
    "    df.head(5)\n",
    "\n",
    "\n",
    "\n",
    "    Args:\n",
    "        df (pandas dataframe): input data\n",
    "        show_searchbar (bool, optional): if True, this will render a search bar on UI. Defaults to False.\n",
    "        multiple_tables (bool, optional): if true, this will render multiple table with single json. Defaults to False.\n",
    "\n",
    "    Returns:\n",
    "        dict: a table dictinary\n",
    "    \"\"\"\n",
    "\n",
    "    actual_columns = df.columns[~df.columns.str.contains(\"_bgcolor\")]\n",
    "    bg_color_columns = df.columns[df.columns.str.contains(\"_bgcolor\")]\n",
    "\n",
    "\n",
    "    table_data = []\n",
    "    for index, row in df[actual_columns].iterrows():\n",
    "        row_list = []\n",
    "        for col, value in row.items():\n",
    "            if col + '_bgcolor' in bg_color_columns:\n",
    "                row_dict = {}\n",
    "                row_dict['value'] = value\n",
    "                row_dict['bgColor'] = df[col + '_bgcolor'].iloc[index]\n",
    "                row_list.append(row_dict)\n",
    "            else:\n",
    "                row_list.append(value)\n",
    "        table_data.append(row_list)\n",
    "\n",
    "    comp_dict = {}\n",
    "    comp_dict['table_headers'] = df[actual_columns].columns.values.tolist()\n",
    "    comp_dict['table_data'] = table_data\n",
    "    comp_dict['show_searchbar'] = show_searchbar\n",
    "    comp_dict['multiple_tables'] = multiple_tables\n",
    "    return comp_dict\n",
    "\n",
    "'''"
   ]
  },
  {
   "cell_type": "code",
   "execution_count": 195,
   "metadata": {},
   "outputs": [],
   "source": [
    "code_str = '''\n",
    "from io import StringIO\n",
    "import pandas as pd\n",
    "from plotly.io import to_json\n",
    "import plotly.graph_objects as go\n",
    "from azure.storage.blob import BlockBlobService\n",
    "sas_token = '?sv=2021-04-10&st=2022-12-22T08%3A12%3A47Z&se=2023-12-30T08%3A12%3A00Z&sr=c&sp=racwl&sig=fMeYkXsCvwK%2F0qVrCmj2j3NiMricQjOPWOkAEXekIPA%3D'\n",
    "account_name = 'willbedeletedsoon'\n",
    "container_name = 'codx-pede-s02'\n",
    "blob_name = 'diabetes.csv'\n",
    "\n",
    "block_blob_service = BlockBlobService(account_name=account_name, sas_token= sas_token)\n",
    "from_blob = block_blob_service.get_blob_to_text(container_name = container_name, blob_name=blob_name)\n",
    "df=pd.read_csv(StringIO(from_blob.content))\n",
    "\n",
    "\n",
    "fig = go.Figure(data=[go.Table(\n",
    "    header=dict(values=list(df.columns),\n",
    "                line_color='darkslategray',\n",
    "                fill_color='lightskyblue',\n",
    "                align='left'),\n",
    "    cells=dict(values=[df.Pregnancies, df.Glucose, df.BloodPressure, df.SkinThickness,df.Insulin,df.DiabetesPedigreeFunction,df.BMI,df.Age,df.Outcome],\n",
    "                line_color='darkslategray',\n",
    "                fill_color='lightcyan',\n",
    "                align='left'))\n",
    "\n",
    "\n",
    "])\n",
    "\n",
    "container_dict = fig\n",
    "dynamic_outputs = to_json(container_dict)\n",
    "'''\n",
    "\n",
    "plot_code_str = conversion_func_code_str + code_str\n",
    "\n",
    "\n"
   ]
  },
  {
   "cell_type": "code",
   "execution_count": 196,
   "metadata": {},
   "outputs": [],
   "source": [
    "table = {'plot_code_str': plot_code_str}\n",
    "\n",
    "\n",
    "\n",
    "results_json.append({\n",
    "            'type': 'Table',\n",
    "            'name': 'Table',\n",
    "            'component':'Table',\n",
    "            'dynamic_visual_results': table,\n",
    "        #     'dynamic_code_filters':filters_dict,\n",
    "        #     'dynamic_metrics_results':metrics\n",
    "                    })"
   ]
  },
  {
   "attachments": {},
   "cell_type": "markdown",
   "metadata": {},
   "source": [
    "Color Table "
   ]
  },
  {
   "cell_type": "code",
   "execution_count": 197,
   "metadata": {},
   "outputs": [],
   "source": [
    "conversion_func_code_str = '''\n",
    "from sklearn import datasets\n",
    "import pandas as pd\n",
    "\n",
    "def get_color_table(df, show_searchbar=False, multiple_tables=False):\n",
    "    \"\"\"to get color table on co.dx UI. download button is a default feature for simple table.\n",
    "\n",
    "    To add a color to a specific column (ex : column 'Population'), create another column suffixed with _bgcolor\n",
    "    ex: Population_bgcolor, values of this column should be the name of the color for the corresponding row\n",
    "\n",
    "    \n",
    "    df = pd.DataFrame(datasets.load_diabetes().data)\n",
    "    df.columns = datasets.load_diabetes().feature_names\n",
    "    df.head(5)\n",
    "\n",
    "\n",
    "\n",
    "    Args:\n",
    "        df (pandas dataframe): input data\n",
    "        show_searchbar (bool, optional): if True, this will render a search bar on UI. Defaults to False.\n",
    "        multiple_tables (bool, optional): if true, this will render multiple table with single json. Defaults to False.\n",
    "\n",
    "    Returns:\n",
    "        dict: a table dictinary\n",
    "    \"\"\"\n",
    "\n",
    "    actual_columns = df.columns[~df.columns.str.contains(\"_bgcolor\")]\n",
    "    bg_color_columns = df.columns[df.columns.str.contains(\"_bgcolor\")]\n",
    "\n",
    "\n",
    "    table_data = []\n",
    "    for index, row in df[actual_columns].iterrows():\n",
    "        row_list = []\n",
    "        for col, value in row.items():\n",
    "            if col + '_bgcolor' in bg_color_columns:\n",
    "                row_dict = {}\n",
    "                row_dict['value'] = value\n",
    "                row_dict['bgColor'] = df[col + '_bgcolor'].iloc[index]\n",
    "                row_list.append(row_dict)\n",
    "            else:\n",
    "                row_list.append(value)\n",
    "        table_data.append(row_list)\n",
    "\n",
    "    comp_dict = {}\n",
    "    comp_dict['table_headers'] = df[actual_columns].columns.values.tolist()\n",
    "    comp_dict['table_data'] = table_data\n",
    "    comp_dict['show_searchbar'] = show_searchbar\n",
    "    comp_dict['multiple_tables'] = multiple_tables\n",
    "    return comp_dict\n",
    "\n",
    "'''"
   ]
  },
  {
   "cell_type": "code",
   "execution_count": 198,
   "metadata": {},
   "outputs": [],
   "source": [
    "code_str = '''\n",
    "\n",
    "import pandas as pd\n",
    "import json\n",
    "\n",
    "from sklearn.datasets import load_iris\n",
    "import pandas as pd\n",
    "load_data = load_iris()\n",
    "\n",
    "df = pd.DataFrame(load_data.data, columns=load_data.feature_names)\n",
    "df['Type'] = load_data.target\n",
    "df['Type'] = df['Type'].apply(lambda x: load_data.target_names[x].title())\n",
    "\n",
    "color_dict = {'Setosa': 'red', 'Versicolor': 'Yellow', 'Virginica': 'green'}\n",
    "df['Type_bgcolor'] = df['Type'].apply(lambda x : color_dict[x])\n",
    "\n",
    "\n",
    "container_dict = {}\n",
    "container_dict = get_color_table(df, show_searchbar=False, multiple_tables=False)\n",
    "\n",
    "dynamic_outputs = json.dumps(container_dict)\n",
    "'''\n",
    "plot_code_str = conversion_func_code_str + code_str"
   ]
  },
  {
   "cell_type": "code",
   "execution_count": 199,
   "metadata": {},
   "outputs": [],
   "source": [
    "exec(plot_code_str)"
   ]
  },
  {
   "cell_type": "code",
   "execution_count": 200,
   "metadata": {},
   "outputs": [],
   "source": [
    "color = {'plot_code_str': plot_code_str}\n",
    "# filters_dict = {}\n",
    "# metrics = {}\n",
    "\n",
    "\n",
    "\n",
    "results_json.append({\n",
    "            'type': 'Color',\n",
    "            'name': 'Color',\n",
    "            'component':'Color',\n",
    "            'dynamic_visual_results': color,\n",
    "        #     'dynamic_code_filters':filters_dict,\n",
    "        #     'dynamic_metrics_results':metrics\n",
    "                    })"
   ]
  },
  {
   "attachments": {},
   "cell_type": "markdown",
   "metadata": {},
   "source": [
    "Graph"
   ]
  },
  {
   "cell_type": "code",
   "execution_count": 203,
   "metadata": {},
   "outputs": [],
   "source": [
    "#BEGIN CUSTOM CODE BELOW...\n",
    "\n",
    "#put your output in this response param for connecting to downstream widgets\n",
    "response_1 = '''\n",
    "import pandas as pd\n",
    "import plotly.express as px\n",
    "from plotly.io import to_json\n",
    " \n",
    "# initialise data of lists.\n",
    "data = {'X':[5,10,15,20,25,30,35,40]}\n",
    "\n",
    "# Create DataFrame\n",
    "df = pd.DataFrame(data)\n",
    "df['Y'] = df['X'].pow(2)\n",
    "fig = px.line(df, x=\"X\", y=\"Y\", title='Line Graph')\n",
    "\n",
    "\n",
    "container_dict = fig\n",
    "dynamic_outputs = to_json(container_dict)\n",
    " '''\n",
    "\n",
    "#END CUSTOM CODE\n",
    "\n"
   ]
  },
  {
   "cell_type": "code",
   "execution_count": 204,
   "metadata": {},
   "outputs": [],
   "source": [
    "equation = {'Equation': response_1}\n",
    "# filters_dict = {}\n",
    "# metrics = {}\n",
    "\n",
    "\n",
    "\n",
    "results_json.append({\n",
    "            'type': 'Graph',\n",
    "            'name': 'Graph',\n",
    "            'component':'Graph',\n",
    "            'dynamic_visual_results': equation,\n",
    "        #     'dynamic_code_filters':filters_dict,\n",
    "        #     'dynamic_metrics_results':metrics\n",
    "                    })"
   ]
  },
  {
   "cell_type": "markdown",
   "metadata": {},
   "source": [
    "### Custom Placeholder"
   ]
  },
  {
   "attachments": {},
   "cell_type": "markdown",
   "metadata": {},
   "source": [
    "Trance Plot"
   ]
  },
  {
   "cell_type": "code",
   "execution_count": 205,
   "metadata": {},
   "outputs": [],
   "source": [
    "#BEGIN CUSTOM CODE BELOW...\n",
    "\n",
    "#put your output in this response param for connecting to downstream widgets\n",
    "response_2='''\n",
    "from io import StringIO\n",
    "import pandas as pd\n",
    "from plotly.io import to_json\n",
    "import plotly.express as px\n",
    "from azure.storage.blob import BlockBlobService\n",
    "sas_token = '?sv=2021-04-10&st=2022-12-22T08%3A12%3A47Z&se=2023-12-30T08%3A12%3A00Z&sr=c&sp=racwl&sig=fMeYkXsCvwK%2F0qVrCmj2j3NiMricQjOPWOkAEXekIPA%3D'\n",
    "account_name = 'willbedeletedsoon'\n",
    "container_name = 'codx-pede-s02'\n",
    "blob_name = 'df_complete.csv'\n",
    "\n",
    "block_blob_service = BlockBlobService(account_name=account_name, sas_token= sas_token)\n",
    "from_blob = block_blob_service.get_blob_to_text(container_name = container_name, blob_name=blob_name)\n",
    "df=pd.read_csv(StringIO(from_blob.content))\n",
    "df=df.dropna()\n",
    "\n",
    "fig = px.bar(df, x=\"artist\", y=df.year, title=\"Famous Artist across years\")\n",
    "\n",
    "container_dict = fig\n",
    "dynamic_outputs = to_json(container_dict)\n",
    " '''\n",
    "\n",
    "#END CUSTOM CODE\n",
    "\n"
   ]
  },
  {
   "cell_type": "code",
   "execution_count": 206,
   "metadata": {},
   "outputs": [],
   "source": [
    "trance_1 = {'Trace 1': response_2}\n",
    "# filters_dict = {}\n",
    "# metrics = {}\n",
    "\n",
    "\n",
    "\n",
    "results_json.append({\n",
    "            'type': 'Chart1',\n",
    "            'name': 'Chart1',\n",
    "            'component':'Chart1',\n",
    "            'dynamic_visual_results': trance_1,\n",
    "        #     'dynamic_code_filters':filters_dict,\n",
    "        #     'dynamic_metrics_results':metrics\n",
    "                    })"
   ]
  },
  {
   "cell_type": "code",
   "execution_count": 207,
   "metadata": {},
   "outputs": [],
   "source": [
    "response_3='''\n",
    "from io import StringIO\n",
    "import pandas as pd\n",
    "from plotly.io import to_json\n",
    "import plotly.express as px\n",
    "from azure.storage.blob import BlockBlobService\n",
    "sas_token = '?sv=2021-04-10&st=2022-12-22T08%3A12%3A47Z&se=2023-12-30T08%3A12%3A00Z&sr=c&sp=racwl&sig=fMeYkXsCvwK%2F0qVrCmj2j3NiMricQjOPWOkAEXekIPA%3D'\n",
    "account_name = 'willbedeletedsoon'\n",
    "container_name = 'codx-pede-s02'\n",
    "blob_name = 'df_complete.csv'\n",
    "\n",
    "block_blob_service = BlockBlobService(account_name=account_name, sas_token= sas_token)\n",
    "from_blob = block_blob_service.get_blob_to_text(container_name = container_name, blob_name=blob_name)\n",
    "df=pd.read_csv(StringIO(from_blob.content))\n",
    "df=df.dropna()\n",
    "\n",
    "\n",
    "fig = px.pie(df, values='danceability', names=\"year\", title='Most Danceability Available songs across years')\n",
    "\n",
    "container_dict = fig\n",
    "dynamic_outputs = to_json(container_dict)\n",
    " '''\n",
    "\n",
    "#END CUSTOM CODE"
   ]
  },
  {
   "cell_type": "code",
   "execution_count": 208,
   "metadata": {},
   "outputs": [],
   "source": [
    "trance_2 = {'Trace 2': response_3}\n",
    "# filters_dict = {}\n",
    "# metrics = {}\n",
    "\n",
    "\n",
    "\n",
    "results_json.append({\n",
    "            'type': 'Chart2',\n",
    "            'name': 'Chart2',\n",
    "            'component':'Chart2',\n",
    "            'dynamic_visual_results': trance_2,\n",
    "        #     'dynamic_code_filters':filters_dict,\n",
    "        #     'dynamic_metrics_results':metrics\n",
    "                    })"
   ]
  },
  {
   "cell_type": "code",
   "execution_count": 209,
   "metadata": {},
   "outputs": [],
   "source": [
    "response_4='''\n",
    "from io import StringIO\n",
    "import pandas as pd\n",
    "from plotly.io import to_json\n",
    "import plotly.express as px\n",
    "from azure.storage.blob import BlockBlobService\n",
    "sas_token = '?sv=2021-04-10&st=2022-12-22T08%3A12%3A47Z&se=2023-12-30T08%3A12%3A00Z&sr=c&sp=racwl&sig=fMeYkXsCvwK%2F0qVrCmj2j3NiMricQjOPWOkAEXekIPA%3D'\n",
    "account_name = 'willbedeletedsoon'\n",
    "container_name = 'codx-pede-s02'\n",
    "blob_name = 'df_complete.csv'\n",
    "\n",
    "block_blob_service = BlockBlobService(account_name=account_name, sas_token= sas_token)\n",
    "from_blob = block_blob_service.get_blob_to_text(container_name = container_name, blob_name=blob_name)\n",
    "df=pd.read_csv(StringIO(from_blob.content))\n",
    "df=df.dropna()\n",
    "\n",
    "\n",
    "\n",
    "fig = px.line(df.head(5), x=\"artist\", y='followers',color=\"year\",title=\"Arist based on most fan following\")\n",
    "\n",
    "container_dict = fig\n",
    "dynamic_outputs = to_json(container_dict)\n",
    " '''\n",
    "\n",
    "#END CUSTOM CODE"
   ]
  },
  {
   "cell_type": "code",
   "execution_count": 210,
   "metadata": {},
   "outputs": [],
   "source": [
    "trance_3 = {'Trace 3': response_4}\n",
    "# filters_dict = {}\n",
    "# metrics = {}\n",
    "\n",
    "\n",
    "\n",
    "results_json.append({\n",
    "            'type': 'Chart3',\n",
    "            'name': 'Chart3',\n",
    "            'component':'Chart3',\n",
    "            'dynamic_visual_results': trance_3,\n",
    "        #     'dynamic_code_filters':filters_dict,\n",
    "        #     'dynamic_metrics_results':metrics\n",
    "                    })"
   ]
  },
  {
   "cell_type": "code",
   "execution_count": 211,
   "metadata": {},
   "outputs": [],
   "source": [
    "response_5='''\n",
    "from io import StringIO\n",
    "import pandas as pd\n",
    "from plotly.io import to_json\n",
    "import plotly.express as px\n",
    "from azure.storage.blob import BlockBlobService\n",
    "sas_token = '?sv=2021-04-10&st=2022-12-22T08%3A12%3A47Z&se=2023-12-30T08%3A12%3A00Z&sr=c&sp=racwl&sig=fMeYkXsCvwK%2F0qVrCmj2j3NiMricQjOPWOkAEXekIPA%3D'\n",
    "account_name = 'willbedeletedsoon'\n",
    "container_name = 'codx-pede-s02'\n",
    "blob_name = 'df_complete.csv'\n",
    "\n",
    "block_blob_service = BlockBlobService(account_name=account_name, sas_token= sas_token)\n",
    "from_blob = block_blob_service.get_blob_to_text(container_name = container_name, blob_name=blob_name)\n",
    "df=pd.read_csv(StringIO(from_blob.content))\n",
    "df=df.dropna()\n",
    "\n",
    "fig = px.scatter(df, x=\"artist_popularity\", y=\"energy\" , color=\"artist\")\n",
    "\n",
    "container_dict = fig\n",
    "dynamic_outputs = to_json(container_dict)\n",
    " '''\n",
    "\n",
    "#END CUSTOM CODE"
   ]
  },
  {
   "cell_type": "code",
   "execution_count": 212,
   "metadata": {},
   "outputs": [],
   "source": [
    "trance_4 = {'Trace 4': response_5}\n",
    "# filters_dict = {}\n",
    "# metrics = {}\n",
    "\n",
    "\n",
    "\n",
    "results_json.append({\n",
    "            'type': 'Chart4',\n",
    "            'name': 'Chart4',\n",
    "            'component':'Chart4',\n",
    "            'dynamic_visual_results': trance_4,\n",
    "        #     'dynamic_code_filters':filters_dict,\n",
    "        #     'dynamic_metrics_results':metrics\n",
    "                    })"
   ]
  },
  {
   "cell_type": "code",
   "execution_count": 213,
   "metadata": {},
   "outputs": [],
   "source": [
    "# import pandas as pd\n",
    "# import json\n",
    "\n",
    "# df = pd.read_csv('C:/Users/SushmaGupta/OneDrive - TheMathCompany Private Limited/Desktop/df_complete.csv')\n",
    "# df=df.dropna()\n",
    "# df.head()\n",
    "\n"
   ]
  },
  {
   "cell_type": "code",
   "execution_count": 214,
   "metadata": {},
   "outputs": [],
   "source": [
    "# import plotly.express as px\n",
    "# fig = px.bar(df, x=\"artist\", y=df.year, title=\"Famous Artist across years\")\n",
    "# fig.show()"
   ]
  },
  {
   "cell_type": "code",
   "execution_count": 215,
   "metadata": {},
   "outputs": [],
   "source": [
    "# fig = px.pie(df, values='danceability', names=\"year\", title='Most Danceability Available songs across years')\n",
    "# fig.show()"
   ]
  },
  {
   "cell_type": "code",
   "execution_count": 216,
   "metadata": {},
   "outputs": [],
   "source": [
    "# fig = px.line(df.head(5), x=\"artist\", y='followers',color=\"year\",title=\"Arist based on most fan following\")\n",
    "# fig.show()"
   ]
  },
  {
   "cell_type": "code",
   "execution_count": 217,
   "metadata": {},
   "outputs": [],
   "source": [
    "# fig = px.scatter(df, x=\"artist_popularity\", y=\"energy\" , color=\"artist\")\n",
    "# fig.show()"
   ]
  },
  {
   "cell_type": "markdown",
   "metadata": {},
   "source": [
    "### Please save and checkpoint notebook before submitting params"
   ]
  },
  {
   "cell_type": "code",
   "execution_count": 218,
   "metadata": {},
   "outputs": [
    {
     "name": "stdout",
     "output_type": "stream",
     "text": [
      "(4, 2) {}\n",
      "{'$schema': 'http://json-schema.org/draft-04/schema#', 'description': 'Jupyter Notebook v4.2 JSON schema.', 'type': 'object', 'additionalProperties': False, 'required': ['metadata', 'nbformat_minor', 'nbformat', 'cells'], 'properties': {'metadata': {'description': 'Notebook root-level metadata.', 'type': 'object', 'additionalProperties': True, 'properties': {'kernelspec': {'description': 'Kernel information.', 'type': 'object', 'required': ['name', 'display_name'], 'properties': {'name': {'description': 'Name of the kernel specification.', 'type': 'string'}, 'display_name': {'description': 'Name to display in UI.', 'type': 'string'}}}, 'language_info': {'description': 'Kernel information.', 'type': 'object', 'required': ['name'], 'properties': {'name': {'description': 'The programming language which this kernel runs.', 'type': 'string'}, 'codemirror_mode': {'description': 'The codemirror mode to use for code in this language.', 'oneOf': [{'type': 'string'}, {'type': 'object'}]}, 'file_extension': {'description': 'The file extension for files in this language.', 'type': 'string'}, 'mimetype': {'description': 'The mimetype corresponding to files in this language.', 'type': 'string'}, 'pygments_lexer': {'description': 'The pygments lexer to use for code in this language.', 'type': 'string'}}}, 'orig_nbformat': {'description': 'Original notebook format (major number) before converting the notebook between versions. This should never be written to a file.', 'type': 'integer', 'minimum': 1}, 'title': {'description': 'The title of the notebook document', 'type': 'string'}, 'authors': {'description': 'The author(s) of the notebook document', 'type': 'array', 'item': {'type': 'object', 'properties': {'name': {'type': 'string'}}, 'additionalProperties': True}}}}, 'nbformat_minor': {'description': 'Notebook format (minor number). Incremented for backward compatible changes to the notebook format.', 'type': 'integer', 'minimum': 2}, 'nbformat': {'description': 'Notebook format (major number). Incremented between backwards incompatible changes to the notebook format.', 'type': 'integer', 'minimum': 4, 'maximum': 4}, 'cells': {'description': 'Array of cells of the current notebook.', 'type': 'array', 'items': {'$ref': '#/definitions/cell'}}}, 'definitions': {'cell': {'type': 'object', 'oneOf': [{'$ref': '#/definitions/raw_cell'}, {'$ref': '#/definitions/markdown_cell'}, {'$ref': '#/definitions/code_cell'}]}, 'raw_cell': {'description': 'Notebook raw nbconvert cell.', 'type': 'object', 'additionalProperties': False, 'required': ['cell_type', 'metadata', 'source'], 'properties': {'cell_type': {'description': 'String identifying the type of cell.', 'enum': ['raw']}, 'metadata': {'description': 'Cell-level metadata.', 'type': 'object', 'additionalProperties': True, 'properties': {'format': {'description': 'Raw cell metadata format for nbconvert.', 'type': 'string'}, 'name': {'$ref': '#/definitions/misc/metadata_name'}, 'tags': {'$ref': '#/definitions/misc/metadata_tags'}}}, 'attachments': {'$ref': '#/definitions/misc/attachments'}, 'source': {'$ref': '#/definitions/misc/source'}}}, 'markdown_cell': {'description': 'Notebook markdown cell.', 'type': 'object', 'additionalProperties': False, 'required': ['cell_type', 'metadata', 'source'], 'properties': {'cell_type': {'description': 'String identifying the type of cell.', 'enum': ['markdown']}, 'metadata': {'description': 'Cell-level metadata.', 'type': 'object', 'properties': {'name': {'$ref': '#/definitions/misc/metadata_name'}, 'tags': {'$ref': '#/definitions/misc/metadata_tags'}}, 'additionalProperties': True}, 'attachments': {'$ref': '#/definitions/misc/attachments'}, 'source': {'$ref': '#/definitions/misc/source'}}}, 'code_cell': {'description': 'Notebook code cell.', 'type': 'object', 'additionalProperties': False, 'required': ['cell_type', 'metadata', 'source', 'outputs', 'execution_count'], 'properties': {'cell_type': {'description': 'String identifying the type of cell.', 'enum': ['code']}, 'metadata': {'description': 'Cell-level metadata.', 'type': 'object', 'additionalProperties': True, 'properties': {'collapsed': {'description': 'Whether the cell is collapsed/expanded.', 'type': 'boolean'}, 'scrolled': {'description': \"Whether the cell's output is scrolled, unscrolled, or autoscrolled.\", 'enum': [True, False, 'auto']}, 'name': {'$ref': '#/definitions/misc/metadata_name'}, 'tags': {'$ref': '#/definitions/misc/metadata_tags'}}}, 'source': {'$ref': '#/definitions/misc/source'}, 'outputs': {'description': 'Execution, display, or stream outputs.', 'type': 'array', 'items': {'$ref': '#/definitions/output'}}, 'execution_count': {'description': \"The code cell's prompt number. Will be null if the cell has not been run.\", 'type': ['integer', 'null'], 'minimum': 0}}}, 'unrecognized_cell': {'description': 'Unrecognized cell from a future minor-revision to the notebook format.', 'type': 'object', 'additionalProperties': True, 'required': ['cell_type', 'metadata'], 'properties': {'cell_type': {'description': 'String identifying the type of cell.', 'not': {'enum': ['markdown', 'code', 'raw']}}, 'metadata': {'description': 'Cell-level metadata.', 'type': 'object', 'properties': {'name': {'$ref': '#/definitions/misc/metadata_name'}, 'tags': {'$ref': '#/definitions/misc/metadata_tags'}}, 'additionalProperties': True}}}, 'output': {'type': 'object', 'oneOf': [{'$ref': '#/definitions/execute_result'}, {'$ref': '#/definitions/display_data'}, {'$ref': '#/definitions/stream'}, {'$ref': '#/definitions/error'}]}, 'execute_result': {'description': 'Result of executing a code cell.', 'type': 'object', 'additionalProperties': False, 'required': ['output_type', 'data', 'metadata', 'execution_count'], 'properties': {'output_type': {'description': 'Type of cell output.', 'enum': ['execute_result']}, 'execution_count': {'description': \"A result's prompt number.\", 'type': ['integer', 'null'], 'minimum': 0}, 'data': {'$ref': '#/definitions/misc/mimebundle'}, 'metadata': {'$ref': '#/definitions/misc/output_metadata'}}}, 'display_data': {'description': 'Data displayed as a result of code cell execution.', 'type': 'object', 'additionalProperties': False, 'required': ['output_type', 'data', 'metadata'], 'properties': {'output_type': {'description': 'Type of cell output.', 'enum': ['display_data']}, 'data': {'$ref': '#/definitions/misc/mimebundle'}, 'metadata': {'$ref': '#/definitions/misc/output_metadata'}}}, 'stream': {'description': 'Stream output from a code cell.', 'type': 'object', 'additionalProperties': False, 'required': ['output_type', 'name', 'text'], 'properties': {'output_type': {'description': 'Type of cell output.', 'enum': ['stream']}, 'name': {'description': 'The name of the stream (stdout, stderr).', 'type': 'string'}, 'text': {'description': \"The stream's text output, represented as an array of strings.\", '$ref': '#/definitions/misc/multiline_string'}}}, 'error': {'description': 'Output of an error that occurred during code cell execution.', 'type': 'object', 'additionalProperties': False, 'required': ['output_type', 'ename', 'evalue', 'traceback'], 'properties': {'output_type': {'description': 'Type of cell output.', 'enum': ['error']}, 'ename': {'description': 'The name of the error.', 'type': 'string'}, 'evalue': {'description': 'The value, or message, of the error.', 'type': 'string'}, 'traceback': {'description': \"The error's traceback, represented as an array of strings.\", 'type': 'array', 'items': {'type': 'string'}}}}, 'unrecognized_output': {'description': 'Unrecognized output from a future minor-revision to the notebook format.', 'type': 'object', 'additionalProperties': True, 'required': ['output_type'], 'properties': {'output_type': {'description': 'Type of cell output.', 'not': {'enum': ['execute_result', 'display_data', 'stream', 'error']}}}}, 'misc': {'metadata_name': {'description': \"The cell's name. If present, must be a non-empty string. Must be unique across all the cells of a given notebook.\", 'type': 'string', 'pattern': '^.+$'}, 'metadata_tags': {'description': \"The cell's tags. Tags must be unique, and must not contain commas.\", 'type': 'array', 'uniqueItems': True, 'items': {'type': 'string', 'pattern': '^[^,]+$'}}, 'attachments': {'description': 'Media attachments (e.g. inline images), stored as mimebundle keyed by filename.', 'type': 'object', 'patternProperties': {'.*': {'description': \"The attachment's data stored as a mimebundle.\", '$ref': '#/definitions/misc/mimebundle'}}}, 'source': {'description': 'Contents of the cell, represented as an array of lines.', '$ref': '#/definitions/misc/multiline_string'}, 'execution_count': {'description': \"The code cell's prompt number. Will be null if the cell has not been run.\", 'type': ['integer', 'null'], 'minimum': 0}, 'mimebundle': {'description': 'A mime-type keyed dictionary of data', 'type': 'object', 'additionalProperties': {'description': 'mimetype output (e.g. text/plain), represented as either an array of strings or a string.', '$ref': '#/definitions/misc/multiline_string'}, 'patternProperties': {'^application/(.*\\\\+)?json$': {'description': 'Mimetypes with JSON output, can be any type'}}}, 'output_metadata': {'description': 'Cell output metadata.', 'type': 'object', 'additionalProperties': True}, 'multiline_string': {'oneOf': [{'type': 'string'}, {'type': 'array', 'items': {'type': 'string'}}]}}}}\n",
      "(4, 2) {(4, 2): Draft4Validator(schema={'$schema': 'http://json-...ft-04/schema#', 'additionalProperties': False, 'definitions': {'cell': {'oneOf': [{'$ref': '#/definitions/raw_cell'}, {'$ref': '#/definitions/markdown_cell'}, {'$ref': '#/definitions/code_cell'}], 'type': 'object'}, 'code_cell': {'additionalProperties': False, 'description': 'Notebook code cell.', 'properties': {'cell_type': {'description': 'String ident...type of cell.', 'enum': ['code']}, 'execution_count': {'description': 'The code cel...not been run.', 'minimum': 0, 'type': ['integer', 'null']}, 'metadata': {'additionalProperties': True, 'description': 'Cell-level metadata.', 'properties': {'collapsed': {...}, 'name': {...}, 'scrolled': {...}, 'tags': {...}}, 'type': 'object'}, 'outputs': {'description': 'Execution, d...ream outputs.', 'items': {'$ref': '#/definitions/output'}, 'type': 'array'}, ...}, 'required': ['cell_type', 'metadata', 'source', 'outputs', 'execution_count'], ...}, 'display_data': {'additionalProperties': False, 'description': 'Data display...ll execution.', 'properties': {'data': {'$ref': '#/definition...sc/mimebundle'}, 'metadata': {'$ref': '#/definition...tput_metadata'}, 'output_type': {'description': 'Type of cell output.', 'enum': ['display_data']}}, 'required': ['output_type', 'data', 'metadata'], ...}, 'error': {'additionalProperties': False, 'description': 'Output of an...ll execution.', 'properties': {'ename': {'description': 'The name of the error.', 'type': 'string'}, 'evalue': {'description': 'The value, o...of the error.', 'type': 'string'}, 'output_type': {'description': 'Type of cell output.', 'enum': ['error']}, 'traceback': {'description': \"The error's ...y of strings.\", 'items': {'type': 'string'}, 'type': 'array'}}, 'required': ['output_type', 'ename', 'evalue', 'traceback'], ...}, ...}, 'description': 'Jupyter Note... JSON schema.', ...}, format_checker=None)}\n",
      "(4, 2) {(4, 2): Draft4Validator(schema={'$schema': 'http://json-...ft-04/schema#', 'additionalProperties': True, 'definitions': {'cell': {'oneOf': [{'$ref': '#/definitions/raw_cell'}, {'$ref': '#/definitions/markdown_cell'}, {'$ref': '#/definitions/code_cell'}], 'type': 'object'}, 'code_cell': {'additionalProperties': True, 'description': 'Notebook code cell.', 'properties': {'cell_type': {'description': 'String ident...type of cell.', 'enum': ['code']}, 'execution_count': {'description': 'The code cel...not been run.', 'minimum': 0, 'type': ['integer', 'null']}, 'metadata': {'additionalProperties': True, 'description': 'Cell-level metadata.', 'properties': {'collapsed': {...}, 'name': {...}, 'scrolled': {...}, 'tags': {...}}, 'type': 'object'}, 'outputs': {'description': 'Execution, d...ream outputs.', 'items': {'$ref': '#/definitions/output'}, 'type': 'array'}, ...}, 'required': ['cell_type', 'metadata', 'source', 'outputs', 'execution_count'], ...}, 'display_data': {'additionalProperties': True, 'description': 'Data display...ll execution.', 'properties': {'data': {'$ref': '#/definition...sc/mimebundle'}, 'metadata': {'$ref': '#/definition...tput_metadata'}, 'output_type': {'description': 'Type of cell output.', 'enum': ['display_data']}}, 'required': ['output_type', 'data', 'metadata'], ...}, 'error': {'additionalProperties': True, 'description': 'Output of an...ll execution.', 'properties': {'ename': {'description': 'The name of the error.', 'type': 'string'}, 'evalue': {'description': 'The value, o...of the error.', 'type': 'string'}, 'output_type': {'description': 'Type of cell output.', 'enum': ['error']}, 'traceback': {'description': \"The error's ...y of strings.\", 'items': {'type': 'string'}, 'type': 'array'}}, 'required': ['output_type', 'ename', 'evalue', 'traceback'], ...}, ...}, 'description': 'Jupyter Note... JSON schema.', ...}, format_checker=None)}\n"
     ]
    },
    {
     "name": "stderr",
     "output_type": "stream",
     "text": [
      "[NbConvertApp] Converting notebook Anomoly_Detection_IDI01054_202212271010.ipynb to script\n",
      "[NbConvertApp] Writing 15821 bytes to Anomoly_Detection_IDI01054_202212271010.py\n"
     ]
    },
    {
     "name": "stdout",
     "output_type": "stream",
     "text": [
      "(4, 2) {(4, 2): Draft4Validator(schema={'$schema': 'http://json-...ft-04/schema#', 'additionalProperties': True, 'definitions': {'cell': {'oneOf': [{'$ref': '#/definitions/raw_cell'}, {'$ref': '#/definitions/markdown_cell'}, {'$ref': '#/definitions/code_cell'}], 'type': 'object'}, 'code_cell': {'additionalProperties': True, 'description': 'Notebook code cell.', 'properties': {'cell_type': {'description': 'String ident...type of cell.', 'enum': ['code']}, 'execution_count': {'description': 'The code cel...not been run.', 'minimum': 0, 'type': ['integer', 'null']}, 'metadata': {'additionalProperties': True, 'description': 'Cell-level metadata.', 'properties': {'collapsed': {...}, 'name': {...}, 'scrolled': {...}, 'tags': {...}}, 'type': 'object'}, 'outputs': {'description': 'Execution, d...ream outputs.', 'items': {'$ref': '#/definitions/output'}, 'type': 'array'}, ...}, 'required': ['cell_type', 'metadata', 'source', 'outputs', 'execution_count'], ...}, 'display_data': {'additionalProperties': True, 'description': 'Data display...ll execution.', 'properties': {'data': {'$ref': '#/definition...sc/mimebundle'}, 'metadata': {'$ref': '#/definition...tput_metadata'}, 'output_type': {'description': 'Type of cell output.', 'enum': ['display_data']}}, 'required': ['output_type', 'data', 'metadata'], ...}, 'error': {'additionalProperties': True, 'description': 'Output of an...ll execution.', 'properties': {'ename': {'description': 'The name of the error.', 'type': 'string'}, 'evalue': {'description': 'The value, o...of the error.', 'type': 'string'}, 'output_type': {'description': 'Type of cell output.', 'enum': ['error']}, 'traceback': {'description': \"The error's ...y of strings.\", 'items': {'type': 'string'}, 'type': 'array'}}, 'required': ['output_type', 'ename', 'evalue', 'traceback'], ...}, ...}, 'description': 'Jupyter Note... JSON schema.', ...}, format_checker=None)}\n",
      "(4, 2) {(4, 2): Draft4Validator(schema={'$schema': 'http://json-...ft-04/schema#', 'additionalProperties': True, 'definitions': {'cell': {'oneOf': [{'$ref': '#/definitions/raw_cell'}, {'$ref': '#/definitions/markdown_cell'}, {'$ref': '#/definitions/code_cell'}], 'type': 'object'}, 'code_cell': {'additionalProperties': True, 'description': 'Notebook code cell.', 'properties': {'cell_type': {'description': 'String ident...type of cell.', 'enum': ['code']}, 'execution_count': {'description': 'The code cel...not been run.', 'minimum': 0, 'type': ['integer', 'null']}, 'metadata': {'additionalProperties': True, 'description': 'Cell-level metadata.', 'properties': {'collapsed': {...}, 'name': {...}, 'scrolled': {...}, 'tags': {...}}, 'type': 'object'}, 'outputs': {'description': 'Execution, d...ream outputs.', 'items': {'$ref': '#/definitions/output'}, 'type': 'array'}, ...}, 'required': ['cell_type', 'metadata', 'source', 'outputs', 'execution_count'], ...}, 'display_data': {'additionalProperties': True, 'description': 'Data display...ll execution.', 'properties': {'data': {'$ref': '#/definition...sc/mimebundle'}, 'metadata': {'$ref': '#/definition...tput_metadata'}, 'output_type': {'description': 'Type of cell output.', 'enum': ['display_data']}}, 'required': ['output_type', 'data', 'metadata'], ...}, 'error': {'additionalProperties': True, 'description': 'Output of an...ll execution.', 'properties': {'ename': {'description': 'The name of the error.', 'type': 'string'}, 'evalue': {'description': 'The value, o...of the error.', 'type': 'string'}, 'output_type': {'description': 'Type of cell output.', 'enum': ['error']}, 'traceback': {'description': \"The error's ...y of strings.\", 'items': {'type': 'string'}, 'type': 'array'}}, 'required': ['output_type', 'ename', 'evalue', 'traceback'], ...}, ...}, 'description': 'Jupyter Note... JSON schema.', ...}, format_checker=None)}\n",
      "(4, 2) {(4, 2): Draft4Validator(schema={'$schema': 'http://json-...ft-04/schema#', 'additionalProperties': True, 'definitions': {'cell': {'oneOf': [{'$ref': '#/definitions/raw_cell'}, {'$ref': '#/definitions/markdown_cell'}, {'$ref': '#/definitions/code_cell'}], 'type': 'object'}, 'code_cell': {'additionalProperties': True, 'description': 'Notebook code cell.', 'properties': {'cell_type': {'description': 'String ident...type of cell.', 'enum': ['code']}, 'execution_count': {'description': 'The code cel...not been run.', 'minimum': 0, 'type': ['integer', 'null']}, 'metadata': {'additionalProperties': True, 'description': 'Cell-level metadata.', 'properties': {'collapsed': {...}, 'name': {...}, 'scrolled': {...}, 'tags': {...}}, 'type': 'object'}, 'outputs': {'description': 'Execution, d...ream outputs.', 'items': {'$ref': '#/definitions/output'}, 'type': 'array'}, ...}, 'required': ['cell_type', 'metadata', 'source', 'outputs', 'execution_count'], ...}, 'display_data': {'additionalProperties': True, 'description': 'Data display...ll execution.', 'properties': {'data': {'$ref': '#/definition...sc/mimebundle'}, 'metadata': {'$ref': '#/definition...tput_metadata'}, 'output_type': {'description': 'Type of cell output.', 'enum': ['display_data']}}, 'required': ['output_type', 'data', 'metadata'], ...}, 'error': {'additionalProperties': True, 'description': 'Output of an...ll execution.', 'properties': {'ename': {'description': 'The name of the error.', 'type': 'string'}, 'evalue': {'description': 'The value, o...of the error.', 'type': 'string'}, 'output_type': {'description': 'Type of cell output.', 'enum': ['error']}, 'traceback': {'description': \"The error's ...y of strings.\", 'items': {'type': 'string'}, 'type': 'array'}}, 'required': ['output_type', 'ename', 'evalue', 'traceback'], ...}, ...}, 'description': 'Jupyter Note... JSON schema.', ...}, format_checker=None)}\n",
      "(4, 2) {(4, 2): Draft4Validator(schema={'$schema': 'http://json-...ft-04/schema#', 'additionalProperties': True, 'definitions': {'cell': {'oneOf': [{'$ref': '#/definitions/raw_cell'}, {'$ref': '#/definitions/markdown_cell'}, {'$ref': '#/definitions/code_cell'}], 'type': 'object'}, 'code_cell': {'additionalProperties': True, 'description': 'Notebook code cell.', 'properties': {'cell_type': {'description': 'String ident...type of cell.', 'enum': ['code']}, 'execution_count': {'description': 'The code cel...not been run.', 'minimum': 0, 'type': ['integer', 'null']}, 'metadata': {'additionalProperties': True, 'description': 'Cell-level metadata.', 'properties': {'collapsed': {...}, 'name': {...}, 'scrolled': {...}, 'tags': {...}}, 'type': 'object'}, 'outputs': {'description': 'Execution, d...ream outputs.', 'items': {'$ref': '#/definitions/output'}, 'type': 'array'}, ...}, 'required': ['cell_type', 'metadata', 'source', 'outputs', 'execution_count'], ...}, 'display_data': {'additionalProperties': True, 'description': 'Data display...ll execution.', 'properties': {'data': {'$ref': '#/definition...sc/mimebundle'}, 'metadata': {'$ref': '#/definition...tput_metadata'}, 'output_type': {'description': 'Type of cell output.', 'enum': ['display_data']}}, 'required': ['output_type', 'data', 'metadata'], ...}, 'error': {'additionalProperties': True, 'description': 'Output of an...ll execution.', 'properties': {'ename': {'description': 'The name of the error.', 'type': 'string'}, 'evalue': {'description': 'The value, o...of the error.', 'type': 'string'}, 'output_type': {'description': 'Type of cell output.', 'enum': ['error']}, 'traceback': {'description': \"The error's ...y of strings.\", 'items': {'type': 'string'}, 'type': 'array'}}, 'required': ['output_type', 'ename', 'evalue', 'traceback'], ...}, ...}, 'description': 'Jupyter Note... JSON schema.', ...}, format_checker=None)}\n",
      "(4, 2) {(4, 2): Draft4Validator(schema={'$schema': 'http://json-...ft-04/schema#', 'additionalProperties': True, 'definitions': {'cell': {'oneOf': [{'$ref': '#/definitions/raw_cell'}, {'$ref': '#/definitions/markdown_cell'}, {'$ref': '#/definitions/code_cell'}], 'type': 'object'}, 'code_cell': {'additionalProperties': True, 'description': 'Notebook code cell.', 'properties': {'cell_type': {'description': 'String ident...type of cell.', 'enum': ['code']}, 'execution_count': {'description': 'The code cel...not been run.', 'minimum': 0, 'type': ['integer', 'null']}, 'metadata': {'additionalProperties': True, 'description': 'Cell-level metadata.', 'properties': {'collapsed': {...}, 'name': {...}, 'scrolled': {...}, 'tags': {...}}, 'type': 'object'}, 'outputs': {'description': 'Execution, d...ream outputs.', 'items': {'$ref': '#/definitions/output'}, 'type': 'array'}, ...}, 'required': ['cell_type', 'metadata', 'source', 'outputs', 'execution_count'], ...}, 'display_data': {'additionalProperties': True, 'description': 'Data display...ll execution.', 'properties': {'data': {'$ref': '#/definition...sc/mimebundle'}, 'metadata': {'$ref': '#/definition...tput_metadata'}, 'output_type': {'description': 'Type of cell output.', 'enum': ['display_data']}}, 'required': ['output_type', 'data', 'metadata'], ...}, 'error': {'additionalProperties': True, 'description': 'Output of an...ll execution.', 'properties': {'ename': {'description': 'The name of the error.', 'type': 'string'}, 'evalue': {'description': 'The value, o...of the error.', 'type': 'string'}, 'output_type': {'description': 'Type of cell output.', 'enum': ['error']}, 'traceback': {'description': \"The error's ...y of strings.\", 'items': {'type': 'string'}, 'type': 'array'}}, 'required': ['output_type', 'ename', 'evalue', 'traceback'], ...}, ...}, 'description': 'Jupyter Note... JSON schema.', ...}, format_checker=None)}\n",
      "(4, 2) {(4, 2): Draft4Validator(schema={'$schema': 'http://json-...ft-04/schema#', 'additionalProperties': True, 'definitions': {'cell': {'oneOf': [{'$ref': '#/definitions/raw_cell'}, {'$ref': '#/definitions/markdown_cell'}, {'$ref': '#/definitions/code_cell'}], 'type': 'object'}, 'code_cell': {'additionalProperties': True, 'description': 'Notebook code cell.', 'properties': {'cell_type': {'description': 'String ident...type of cell.', 'enum': ['code']}, 'execution_count': {'description': 'The code cel...not been run.', 'minimum': 0, 'type': ['integer', 'null']}, 'metadata': {'additionalProperties': True, 'description': 'Cell-level metadata.', 'properties': {'collapsed': {...}, 'name': {...}, 'scrolled': {...}, 'tags': {...}}, 'type': 'object'}, 'outputs': {'description': 'Execution, d...ream outputs.', 'items': {'$ref': '#/definitions/output'}, 'type': 'array'}, ...}, 'required': ['cell_type', 'metadata', 'source', 'outputs', 'execution_count'], ...}, 'display_data': {'additionalProperties': True, 'description': 'Data display...ll execution.', 'properties': {'data': {'$ref': '#/definition...sc/mimebundle'}, 'metadata': {'$ref': '#/definition...tput_metadata'}, 'output_type': {'description': 'Type of cell output.', 'enum': ['display_data']}}, 'required': ['output_type', 'data', 'metadata'], ...}, 'error': {'additionalProperties': True, 'description': 'Output of an...ll execution.', 'properties': {'ename': {'description': 'The name of the error.', 'type': 'string'}, 'evalue': {'description': 'The value, o...of the error.', 'type': 'string'}, 'output_type': {'description': 'Type of cell output.', 'enum': ['error']}, 'traceback': {'description': \"The error's ...y of strings.\", 'items': {'type': 'string'}, 'type': 'array'}}, 'required': ['output_type', 'ename', 'evalue', 'traceback'], ...}, ...}, 'description': 'Jupyter Note... JSON schema.', ...}, format_checker=None)}\n",
      "(4, 2) {(4, 2): Draft4Validator(schema={'$schema': 'http://json-...ft-04/schema#', 'additionalProperties': True, 'definitions': {'cell': {'oneOf': [{'$ref': '#/definitions/raw_cell'}, {'$ref': '#/definitions/markdown_cell'}, {'$ref': '#/definitions/code_cell'}], 'type': 'object'}, 'code_cell': {'additionalProperties': True, 'description': 'Notebook code cell.', 'properties': {'cell_type': {'description': 'String ident...type of cell.', 'enum': ['code']}, 'execution_count': {'description': 'The code cel...not been run.', 'minimum': 0, 'type': ['integer', 'null']}, 'metadata': {'additionalProperties': True, 'description': 'Cell-level metadata.', 'properties': {'collapsed': {...}, 'name': {...}, 'scrolled': {...}, 'tags': {...}}, 'type': 'object'}, 'outputs': {'description': 'Execution, d...ream outputs.', 'items': {'$ref': '#/definitions/output'}, 'type': 'array'}, ...}, 'required': ['cell_type', 'metadata', 'source', 'outputs', 'execution_count'], ...}, 'display_data': {'additionalProperties': True, 'description': 'Data display...ll execution.', 'properties': {'data': {'$ref': '#/definition...sc/mimebundle'}, 'metadata': {'$ref': '#/definition...tput_metadata'}, 'output_type': {'description': 'Type of cell output.', 'enum': ['display_data']}}, 'required': ['output_type', 'data', 'metadata'], ...}, 'error': {'additionalProperties': True, 'description': 'Output of an...ll execution.', 'properties': {'ename': {'description': 'The name of the error.', 'type': 'string'}, 'evalue': {'description': 'The value, o...of the error.', 'type': 'string'}, 'output_type': {'description': 'Type of cell output.', 'enum': ['error']}, 'traceback': {'description': \"The error's ...y of strings.\", 'items': {'type': 'string'}, 'type': 'array'}}, 'required': ['output_type', 'ename', 'evalue', 'traceback'], ...}, ...}, 'description': 'Jupyter Note... JSON schema.', ...}, format_checker=None)}\n",
      "(4, 2) {(4, 2): Draft4Validator(schema={'$schema': 'http://json-...ft-04/schema#', 'additionalProperties': True, 'definitions': {'cell': {'oneOf': [{'$ref': '#/definitions/raw_cell'}, {'$ref': '#/definitions/markdown_cell'}, {'$ref': '#/definitions/code_cell'}], 'type': 'object'}, 'code_cell': {'additionalProperties': True, 'description': 'Notebook code cell.', 'properties': {'cell_type': {'description': 'String ident...type of cell.', 'enum': ['code']}, 'execution_count': {'description': 'The code cel...not been run.', 'minimum': 0, 'type': ['integer', 'null']}, 'metadata': {'additionalProperties': True, 'description': 'Cell-level metadata.', 'properties': {'collapsed': {...}, 'name': {...}, 'scrolled': {...}, 'tags': {...}}, 'type': 'object'}, 'outputs': {'description': 'Execution, d...ream outputs.', 'items': {'$ref': '#/definitions/output'}, 'type': 'array'}, ...}, 'required': ['cell_type', 'metadata', 'source', 'outputs', 'execution_count'], ...}, 'display_data': {'additionalProperties': True, 'description': 'Data display...ll execution.', 'properties': {'data': {'$ref': '#/definition...sc/mimebundle'}, 'metadata': {'$ref': '#/definition...tput_metadata'}, 'output_type': {'description': 'Type of cell output.', 'enum': ['display_data']}}, 'required': ['output_type', 'data', 'metadata'], ...}, 'error': {'additionalProperties': True, 'description': 'Output of an...ll execution.', 'properties': {'ename': {'description': 'The name of the error.', 'type': 'string'}, 'evalue': {'description': 'The value, o...of the error.', 'type': 'string'}, 'output_type': {'description': 'Type of cell output.', 'enum': ['error']}, 'traceback': {'description': \"The error's ...y of strings.\", 'items': {'type': 'string'}, 'type': 'array'}}, 'required': ['output_type', 'ename', 'evalue', 'traceback'], ...}, ...}, 'description': 'Jupyter Note... JSON schema.', ...}, format_checker=None)}\n"
     ]
    }
   ],
   "source": [
    "\n",
    "currentNotebook = 'Anomoly_Detection_IDI01054_202212271010.ipynb'\n",
    "\n",
    "!jupyter nbconvert --to script {currentNotebook} \n",
    "\n"
   ]
  },
  {
   "cell_type": "code",
   "execution_count": 219,
   "metadata": {},
   "outputs": [
    {
     "name": "stdout",
     "output_type": "stream",
     "text": [
      "['codex_widget_factory']\n",
      "SUCCESS | Submitted config params.\n"
     ]
    }
   ],
   "source": [
    "\n",
    "utils.submit_config_params(url='https://codex-api-stage.azurewebsites.net/codex-api/projects/upload-config-params/QQ4BH5dKU76QpyIvz6LMDQ', nb_name=currentNotebook, results=results_json, codex_tags=codex_tags, args={})"
   ]
  }
 ],
 "metadata": {
  "kernelspec": {
   "display_name": "wf",
   "language": "python",
   "name": "python3"
  },
  "language_info": {
   "codemirror_mode": {
    "name": "ipython",
    "version": 3
   },
   "file_extension": ".py",
   "mimetype": "text/x-python",
   "name": "python",
   "nbconvert_exporter": "python",
   "pygments_lexer": "ipython3",
   "version": "3.7.5 (default, Oct 31 2019, 15:18:51) [MSC v.1916 64 bit (AMD64)]"
  },
  "vscode": {
   "interpreter": {
    "hash": "01ce017763af8eed3ebe91e8cd9d1062022a596f21ceadb8af9b3eca75ec6ddb"
   }
  }
 },
 "nbformat": 4,
 "nbformat_minor": 2
}
